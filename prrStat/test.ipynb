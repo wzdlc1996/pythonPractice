{
 "cells": [
  {
   "cell_type": "code",
   "execution_count": 9,
   "metadata": {},
   "outputs": [],
   "source": [
    "import re\n",
    "import requests as rq\n",
    "import bs4"
   ]
  },
  {
   "cell_type": "code",
   "execution_count": 5,
   "metadata": {},
   "outputs": [],
   "source": [
    "issUrl = \"https://journals.aps.org/prresearch/issues/1/3\"\n",
    "page = rq.get(issUrl)"
   ]
  },
  {
   "cell_type": "code",
   "execution_count": 12,
   "metadata": {},
   "outputs": [],
   "source": [
    "art = bs4.BeautifulSoup(page.content).find_all(\"div\", class_=\"article\")"
   ]
  },
  {
   "cell_type": "code",
   "execution_count": 20,
   "metadata": {},
   "outputs": [],
   "source": [
    "dois = []\n",
    "for z in art:\n",
    "    if z[\"data-id\"] not in dois:\n",
    "        dois.append(z[\"data-id\"])"
   ]
  },
  {
   "cell_type": "code",
   "execution_count": 25,
   "metadata": {},
   "outputs": [],
   "source": [
    "def doi2url(doi):\n",
    "    return \"https://journals.aps.org/prresearch/abstract/{}\".format(doi)"
   ]
  },
  {
   "cell_type": "raw",
   "metadata": {},
   "source": []
  },
  {
   "cell_type": "code",
   "execution_count": 116,
   "metadata": {},
   "outputs": [],
   "source": [
    "t = bs4.BeautifulSoup(page.content)\n",
    "tw = bs4.BeautifulSoup(pagew.content)\n",
    "tl = bs4.BeautifulSoup(pagel.content)"
   ]
  },
  {
   "cell_type": "code",
   "execution_count": 136,
   "metadata": {},
   "outputs": [],
   "source": [
    "tg = tw.find_all(\"div\", class_=\"citing\")[0]"
   ]
  },
  {
   "cell_type": "code",
   "execution_count": 128,
   "metadata": {},
   "outputs": [],
   "source": [
    "page = rq.get(\"https://journals.aps.org/prresearch/cited-by/10.1103/PhysRevResearch.1.033001\")\n",
    "pagew = rq.get(\"https://journals.aps.org/prresearch/cited-by/10.1103/PhysRevResearch.1.033114\")\n",
    "pagel = rq.get(\"https://journals.aps.org/prresearch/cited-by/10.1103/PhysRevResearch.1.012011?page=3\")"
   ]
  },
  {
   "cell_type": "code",
   "execution_count": 207,
   "metadata": {},
   "outputs": [
    {
     "data": {
      "text/plain": [
       "[None]"
      ]
     },
     "execution_count": 207,
     "metadata": {},
     "output_type": "execute_result"
    }
   ],
   "source": [
    "[x.string for x in tg.find_all(class_=\"pub-info\")]"
   ]
  },
  {
   "cell_type": "code",
   "execution_count": 148,
   "metadata": {},
   "outputs": [
    {
     "data": {
      "text/plain": [
       "'https://doi.org/10.1038/s41467-021-23140-w'"
      ]
     },
     "execution_count": 148,
     "metadata": {},
     "output_type": "execute_result"
    }
   ],
   "source": [
    "tg.find(\"a\")[\"href\"]"
   ]
  },
  {
   "cell_type": "code",
   "execution_count": 208,
   "metadata": {},
   "outputs": [
    {
     "data": {
      "text/plain": [
       "[<h6 class=\"pub-info\">Nat Commun <b>12</b> 3274 (2021)</h6>]"
      ]
     },
     "execution_count": 208,
     "metadata": {},
     "output_type": "execute_result"
    }
   ],
   "source": [
    "tg.find_all(class_=\"pub-info\")"
   ]
  },
  {
   "cell_type": "code",
   "execution_count": 200,
   "metadata": {},
   "outputs": [],
   "source": [
    "import re\n",
    "import requests as rq\n",
    "import bs4\n",
    "\n",
    "\n",
    "def idToURL(ident):\n",
    "    return \"https://journals.aps.org/prresearch/abstract/{}\".format(ident)\n",
    "\n",
    "\n",
    "def idToCitedURL(ident):\n",
    "    return \"https://journals.aps.org/prresearch/cited-by/{}\".format(ident)\n",
    "\n",
    "\n",
    "def queryIssuePaperList(url):\n",
    "    \"\"\"\n",
    "    :param url: the url of the issue\n",
    "    :return lis: the identifier list of the published papers\n",
    "    \"\"\"\n",
    "    page = bs4.BeautifulSoup(rq.get(url).content, features=\"lxml\").find_all(\"div\", class_=\"article\")\n",
    "    lis = []\n",
    "    for z in page:\n",
    "        if z[\"data-id\"] not in lis:\n",
    "            lis.append(z[\"data-id\"])\n",
    "    return lis\n",
    "\n",
    "\n",
    "def queryCitingListPerPage(url):\n",
    "    page = bs4.BeautifulSoup(rq.get(url).content, features=\"lxml\").find_all(\"div\", class_=\"citing\")\n",
    "    lis = []\n",
    "    for z in page:\n",
    "        title = z.find(class_=\"title\").string\n",
    "        autho = z.find(class_=\"authors\").string\n",
    "        pub = parsePubInfo(z.find(class_=\"pub-info\"))\n",
    "        lis.append({\n",
    "            \"title\": title,\n",
    "            \"authors\": autho,\n",
    "            \"pubInfo\": pub\n",
    "        })\n",
    "    return lis\n",
    "\n",
    "\n",
    "def queryCitingList(ident):\n",
    "    lis = []\n",
    "    page = 1\n",
    "    while True:\n",
    "        url = idToCitedURL(ident) + \"?page={}\".format(page)\n",
    "        res = queryCitingListPerPage(url)\n",
    "        if len(res) != 0:\n",
    "            lis += res\n",
    "        else:\n",
    "            break\n",
    "        page += 1\n",
    "    return lis\n",
    "\n",
    "\n",
    "def getIssues():\n",
    "    pass\n",
    "\n",
    "\n",
    "def parsePubInfo(pub):\n",
    "    try:\n",
    "        return \" \".join([x.string for x in pub])\n",
    "    except:\n",
    "        print(pub)\n",
    "        return \"\"\n",
    "\n",
    "\n",
    "def getPapers():\n",
    "    base = \"https://journals.aps.org/prresearch/subjects?page={}\"\n",
    "    pgNum = 126\n",
    "    lis = []\n",
    "    while True:\n",
    "        temp = []\n",
    "        url = base.format(pgNum)\n",
    "        page = bs4.BeautifulSoup(rq.get(url).content, features=\"lxml\").find_all(\"div\", class_=\"article\")\n",
    "        for z in page:\n",
    "            title = z.find(class_=\"title\").string\n",
    "            autho = z.find(class_=\"authors\").string\n",
    "            pub = parsePubInfo(z.find(class_=\"pub-info\"))\n",
    "            ind = z[\"data-id\"]\n",
    "            temp.append({\n",
    "                \"title\": title,\n",
    "                \"authors\": autho,\n",
    "                \"pubInfo\": pub,\n",
    "                \"identifier\": ind\n",
    "            })\n",
    "        if len(temp) == 0:\n",
    "            break\n",
    "        lis += temp\n",
    "        print(\"Page: {} done\".format(pgNum))\n",
    "        pgNum += 1\n",
    "    return lis"
   ]
  },
  {
   "cell_type": "code",
   "execution_count": 176,
   "metadata": {},
   "outputs": [],
   "source": [
    "ident = \"10.1103/PhysRevResearch.1.013007\"\n",
    "a = queryCitingList(ident)"
   ]
  },
  {
   "cell_type": "code",
   "execution_count": 177,
   "metadata": {},
   "outputs": [
    {
     "data": {
      "text/plain": [
       "[{'title': 'Success-or-Draw: A Strategy Allowing Repeat-Until-Success in Quantum Computation',\n",
       "  'authors': 'Qingxiuxiong Dong, Marco Túlio Quintino, Akihito Soeda, and Mio Murao',\n",
       "  'pubInfo': 'Phys. Rev. Lett.  126  150504 (2021)'},\n",
       " {'title': 'Experimentally undoing an unknown single-qubit unitary',\n",
       "  'authors': 'Qin Feng, Tianfeng Feng, Yuling Tian, Maolin Luo, and Xiaoqi Zhou',\n",
       "  'pubInfo': 'Phys. Rev. A  102  012602 (2020)'},\n",
       " {'title': 'Reversing Unknown Quantum Transformations: Universal Quantum Circuit for Inverting General Unitary Operations',\n",
       "  'authors': 'Marco Túlio Quintino, Qingxiuxiong Dong, Atsushi Shimbo, Akihito Soeda, and Mio Murao',\n",
       "  'pubInfo': 'Phys. Rev. Lett.  123  210502 (2019)'},\n",
       " {'title': 'Probabilistic exact universal quantum circuits for transforming unitary operations',\n",
       "  'authors': 'Marco Túlio Quintino, Qingxiuxiong Dong, Atsushi Shimbo, Akihito Soeda, and Mio Murao',\n",
       "  'pubInfo': 'Phys. Rev. A  100  062339 (2019)'}]"
      ]
     },
     "execution_count": 177,
     "metadata": {},
     "output_type": "execute_result"
    }
   ],
   "source": [
    "a"
   ]
  },
  {
   "cell_type": "code",
   "execution_count": 178,
   "metadata": {},
   "outputs": [],
   "source": [
    "import datetime"
   ]
  },
  {
   "cell_type": "code",
   "execution_count": 195,
   "metadata": {},
   "outputs": [
    {
     "data": {
      "text/plain": [
       "'Sun Aug  1 00:08:25 2021'"
      ]
     },
     "execution_count": 195,
     "metadata": {},
     "output_type": "execute_result"
    }
   ],
   "source": [
    "datetime.datetime.ctime(datetime.datetime.now())"
   ]
  },
  {
   "cell_type": "code",
   "execution_count": 197,
   "metadata": {},
   "outputs": [],
   "source": [
    "import json\n",
    "with open(\"./prr_pubs\", \"r\") as f:\n",
    "    lis = json.load(f)"
   ]
  },
  {
   "cell_type": "code",
   "execution_count": 201,
   "metadata": {},
   "outputs": [
    {
     "name": "stdout",
     "output_type": "stream",
     "text": [
      "None\n"
     ]
    },
    {
     "data": {
      "text/plain": [
       "[{'title': 'Metastable states in plateaus and multi-wave epidemic dynamics of Covid-19 spreading in Italy',\n",
       "  'authors': 'Gaetano Campi, Maria Vittoria Mazziotti, Antonio Valletta, Giampietro Ravagnan, Augusto Marcelli, Andrea Perali, and Antonio Bianconi',\n",
       "  'pubInfo': 'Sci Rep  11  12412 (2021)'},\n",
       " {'title': 'Virus spread versus contact tracing: Two competing contagion processes',\n",
       "  'authors': 'Adriana Reyna-Lara, David Soriano-Paños, Sergio Gómez, Clara Granell, Joan T. Matamalas, Benjamin Steinegger, Alex Arenas, and Jesús Gómez-Gardeñes',\n",
       "  'pubInfo': 'Phys. Rev. Research  3  013163 (2021)'},\n",
       " {'title': 'Impact of presymptomatic transmission on epidemic spreading in contact networks: A dynamic message-passing analysis',\n",
       "  'authors': 'Bo Li and David Saad',\n",
       "  'pubInfo': 'Phys. Rev. E  103  052303 (2021)'},\n",
       " {'title': 'No title available',\n",
       "  'authors': 'Stacey O. Baror, H. S. Venter, and Victor R. Kebande',\n",
       "  'pubInfo': ''}]"
      ]
     },
     "execution_count": 201,
     "metadata": {},
     "output_type": "execute_result"
    }
   ],
   "source": [
    "queryCitingList(lis[622][\"identifier\"])"
   ]
  },
  {
   "cell_type": "code",
   "execution_count": 202,
   "metadata": {},
   "outputs": [
    {
     "data": {
      "text/plain": [
       "{'title': 'Message-passing approach to epidemic tracing and mitigation with apps',\n",
       " 'authors': 'Ginestra Bianconi, Hanlin Sun, Giacomo Rapisardi, and Alex Arenas',\n",
       " 'pubInfo': 'Phys. Rev. Research  3 , L012014 (2021) – Published  8 February 2021',\n",
       " 'identifier': '10.1103/PhysRevResearch.3.L012014'}"
      ]
     },
     "execution_count": 202,
     "metadata": {},
     "output_type": "execute_result"
    }
   ],
   "source": [
    "lis[622]"
   ]
  },
  {
   "cell_type": "code",
   "execution_count": null,
   "metadata": {},
   "outputs": [],
   "source": []
  }
 ],
 "metadata": {
  "kernelspec": {
   "display_name": "Python 3",
   "language": "python",
   "name": "python3"
  },
  "language_info": {
   "codemirror_mode": {
    "name": "ipython",
    "version": 3
   },
   "file_extension": ".py",
   "mimetype": "text/x-python",
   "name": "python",
   "nbconvert_exporter": "python",
   "pygments_lexer": "ipython3",
   "version": "3.8.3"
  }
 },
 "nbformat": 4,
 "nbformat_minor": 4
}
